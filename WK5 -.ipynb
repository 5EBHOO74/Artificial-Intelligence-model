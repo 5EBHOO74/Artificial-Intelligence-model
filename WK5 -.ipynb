{
 "cells": [
  {
   "cell_type": "code",
   "execution_count": 3,
   "outputs": [
    {
     "name": "stdout",
     "output_type": "stream",
     "text": [
      "<class 'pandas.core.frame.DataFrame'>\n",
      "RangeIndex: 891 entries, 0 to 890\n",
      "Data columns (total 12 columns):\n",
      " #   Column    Non-Null Count  Dtype  \n",
      "---  ------    --------------  -----  \n",
      " 0   PId       891 non-null    int64  \n",
      " 1   Survived  891 non-null    int64  \n",
      " 2   Pclass    891 non-null    int64  \n",
      " 3   Name      891 non-null    object \n",
      " 4   Sex       891 non-null    object \n",
      " 5   Age       714 non-null    float64\n",
      " 6   SibSp     891 non-null    int64  \n",
      " 7   Parch     891 non-null    int64  \n",
      " 8   Tic       891 non-null    object \n",
      " 9   Fare      891 non-null    float64\n",
      " 10  Cabin     204 non-null    object \n",
      " 11  Embarked  889 non-null    object \n",
      "dtypes: float64(2), int64(5), object(5)\n",
      "memory usage: 83.7+ KB\n",
      "None\n",
      "(891, 12)\n",
      "   PId  Survived  Pclass                                               Name  \\\n",
      "0    1         0       3                            Braund, Mr. Owen Harris   \n",
      "1    2         1       1  Cumings, Mrs. John Bradley (Florence Briggs Th...   \n",
      "\n",
      "      Sex   Age  SibSp  Parch        Tic     Fare Cabin Embarked  \n",
      "0    male  22.0      1      0  A/5 21171   7.2500   NaN        S  \n",
      "1  female  38.0      1      0   PC 17599  71.2833   C85        C  \n",
      "\n",
      "The total number of empty values per variables\n",
      ", my_data.isna().sum()\n",
      "(708, 12)\n",
      "708\n",
      "\n",
      "The total number of empty values per variables\n",
      " PId           0\n",
      "Survived      0\n",
      "Pclass        0\n",
      "Name          0\n",
      "Sex           0\n",
      "Age           0\n",
      "SibSp         0\n",
      "Parch         0\n",
      "Tic           0\n",
      "Fare          0\n",
      "Cabin       687\n",
      "Embarked      2\n",
      "dtype: int64\n"
     ]
    },
    {
     "name": "stderr",
     "output_type": "stream",
     "text": [
      "C:\\Users\\Osedebamen\\AppData\\Local\\Temp\\ipykernel_7796\\791234589.py:22: FutureWarning: Dropping of nuisance columns in DataFrame reductions (with 'numeric_only=None') is deprecated; in a future version this will raise TypeError.  Select only valid columns before calling the reduction.\n",
      "  my_data.fillna(my_data.mean(), inplace=True)\n"
     ]
    }
   ],
   "source": [
    "import numpy as np\n",
    "import pandas as pd\n",
    "from pandas import read_csv\n",
    "from sklearn.preprocessing import MinMaxScaler,LabelEncoder\n",
    "import matplotlib.pyplot as plt\n",
    "from sklearn.model_selection import train_test_split\n",
    "%matplotlib inline\n",
    "\n",
    "header_names = ['PId', 'Survived', 'Pclass', 'Name', 'Sex', 'Age', 'SibSp', 'Parch', 'Tic', 'Fare', 'Cabin', 'Embarked']\n",
    "my_data = read_csv('titanic.csv',names=header_names, header=None, skiprows=1)\n",
    "\n",
    "print(my_data.info())\n",
    "print(my_data.shape)\n",
    "print(my_data.head(2))\n",
    "\n",
    "print('\\nThe total number of empty values per variables\\n, my_data.isna().sum()')\n",
    "\n",
    "empty_value_data = my_data[my_data.isna().any(axis=1)]\n",
    "print(empty_value_data.shape)\n",
    "print(len(empty_value_data))\n",
    "\n",
    "my_data.fillna(my_data.mean(), inplace=True)\n",
    "\n",
    "print('\\nThe total number of empty values per variables\\n', my_data.isna().sum())\n",
    "labelEncoder =LabelEncoder()\n",
    "labelEncoder.fit(my_data['Sex'])\n",
    "my_data['Sex'] = labelEncoder.transform(my_data['Sex'])\n"
   ],
   "metadata": {
    "collapsed": false,
    "pycharm": {
     "name": "#%%\n"
    }
   }
  },
  {
   "cell_type": "code",
   "execution_count": null,
   "outputs": [],
   "source": [],
   "metadata": {
    "collapsed": false,
    "pycharm": {
     "name": "#%%\n"
    }
   }
  }
 ],
 "metadata": {
  "kernelspec": {
   "display_name": "Python 3",
   "language": "python",
   "name": "python3"
  },
  "language_info": {
   "codemirror_mode": {
    "name": "ipython",
    "version": 2
   },
   "file_extension": ".py",
   "mimetype": "text/x-python",
   "name": "python",
   "nbconvert_exporter": "python",
   "pygments_lexer": "ipython2",
   "version": "2.7.6"
  }
 },
 "nbformat": 4,
 "nbformat_minor": 0
}