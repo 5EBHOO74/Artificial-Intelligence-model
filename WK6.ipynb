{
 "cells": [
  {
   "cell_type": "code",
   "execution_count": 21,
   "outputs": [
    {
     "name": "stdout",
     "output_type": "stream",
     "text": [
      "loading file 1inch Token.xlsx...\n",
      "loading file Aave.xlsx...\n",
      "loading file Algorand.xlsx...\n"
     ]
    }
   ],
   "source": [
    "import os\n",
    "import pandas as pd\n",
    "\n",
    "data_file = \"100 Coins\"\n",
    "df = []\n",
    "for file in os.listdir(data_file):\n",
    "    if file.endswith('.xlsx'):\n",
    "        print('loading file {0}...'.format(file))\n",
    "        df.append(pd.read_excel(os.path.join(data_file,file)))"
   ],
   "metadata": {
    "collapsed": false,
    "pycharm": {
     "name": "#%%\n"
    }
   }
  },
  {
   "cell_type": "code",
   "execution_count": null,
   "outputs": [],
   "source": [],
   "metadata": {
    "collapsed": false,
    "pycharm": {
     "name": "#%%\n"
    }
   }
  },
  {
   "cell_type": "code",
   "execution_count": 27,
   "outputs": [],
   "source": [
    "df_master = pd.concat(df, axis=0)\n",
    "df_master.to_excel('combination file.xlsx', index = False)"
   ],
   "metadata": {
    "collapsed": false,
    "pycharm": {
     "name": "#%%\n"
    }
   }
  },
  {
   "cell_type": "code",
   "execution_count": 108,
   "outputs": [
    {
     "name": "stdout",
     "output_type": "stream",
     "text": [
      "Coin        object\n",
      "Date        object\n",
      "Open        object\n",
      "High        object\n",
      "Low         object\n",
      "Close       object\n",
      "Volume      object\n",
      "Currency    object\n",
      "dtype: object\n"
     ]
    }
   ],
   "source": [
    "from pandas import read_csv\n",
    "header_names = ['Coin', 'Date', 'Open', 'High', 'Low','Close', 'Volume', 'Currency']\n",
    "coin_data = read_csv('combination file.csv', names=header_names)\n",
    "print(coin_data.dtypes)\n"
   ],
   "metadata": {
    "collapsed": false,
    "pycharm": {
     "name": "#%%\n"
    }
   }
  },
  {
   "cell_type": "code",
   "execution_count": 119,
   "outputs": [
    {
     "data": {
      "text/plain": "          Coin        Date      Open      High       Low     Close     Volume  \\\n0  1inch Token  25/12/2020  1.602781  2.918094  1.375262  2.328544  638225549   \n1  1inch Token  26/12/2020  2.318946  2.434916  1.582264  1.596896  237653073   \n2  1inch Token  27/12/2020  1.597744  1.630781  1.056657  1.062112  183978307   \n\n  Currency  encode_Coin_label  \n0      USD                  0  \n1      USD                  0  \n2      USD                  0  ",
      "text/html": "<div>\n<style scoped>\n    .dataframe tbody tr th:only-of-type {\n        vertical-align: middle;\n    }\n\n    .dataframe tbody tr th {\n        vertical-align: top;\n    }\n\n    .dataframe thead th {\n        text-align: right;\n    }\n</style>\n<table border=\"1\" class=\"dataframe\">\n  <thead>\n    <tr style=\"text-align: right;\">\n      <th></th>\n      <th>Coin</th>\n      <th>Date</th>\n      <th>Open</th>\n      <th>High</th>\n      <th>Low</th>\n      <th>Close</th>\n      <th>Volume</th>\n      <th>Currency</th>\n      <th>encode_Coin_label</th>\n    </tr>\n  </thead>\n  <tbody>\n    <tr>\n      <th>0</th>\n      <td>1inch Token</td>\n      <td>25/12/2020</td>\n      <td>1.602781</td>\n      <td>2.918094</td>\n      <td>1.375262</td>\n      <td>2.328544</td>\n      <td>638225549</td>\n      <td>USD</td>\n      <td>0</td>\n    </tr>\n    <tr>\n      <th>1</th>\n      <td>1inch Token</td>\n      <td>26/12/2020</td>\n      <td>2.318946</td>\n      <td>2.434916</td>\n      <td>1.582264</td>\n      <td>1.596896</td>\n      <td>237653073</td>\n      <td>USD</td>\n      <td>0</td>\n    </tr>\n    <tr>\n      <th>2</th>\n      <td>1inch Token</td>\n      <td>27/12/2020</td>\n      <td>1.597744</td>\n      <td>1.630781</td>\n      <td>1.056657</td>\n      <td>1.062112</td>\n      <td>183978307</td>\n      <td>USD</td>\n      <td>0</td>\n    </tr>\n  </tbody>\n</table>\n</div>"
     },
     "execution_count": 119,
     "metadata": {},
     "output_type": "execute_result"
    }
   ],
   "source": [
    "import numpy as np\n",
    "from sklearn import preprocessing\n",
    "header_names = ['Coin', 'Date', 'Open', 'High', 'Low','Close', 'Volume', 'Currency']\n",
    "coin_data = read_csv('combination file.csv',)\n",
    "encoder  = preprocessing.LabelEncoder()\n",
    "coin_data['encode_Coin_label']=encoder.fit_transform(coin_data.Coin)\n",
    "coin_data.head(3)"
   ],
   "metadata": {
    "collapsed": false,
    "pycharm": {
     "name": "#%%\n"
    }
   }
  },
  {
   "cell_type": "code",
   "execution_count": 120,
   "outputs": [
    {
     "data": {
      "text/plain": "          Coin        Date      Open      High       Low     Close     Volume  \\\n0  1inch Token  25/12/2020  1.602781  2.918094  1.375262  2.328544  638225549   \n1  1inch Token  26/12/2020  2.318946  2.434916  1.582264  1.596896  237653073   \n2  1inch Token  27/12/2020  1.597744  1.630781  1.056657  1.062112  183978307   \n\n  Currency  encode_Coin_label  daily_pct_change  \n0      USD                  0               NaN  \n1      USD                  0         -0.314208  \n2      USD                  0         -0.334890  ",
      "text/html": "<div>\n<style scoped>\n    .dataframe tbody tr th:only-of-type {\n        vertical-align: middle;\n    }\n\n    .dataframe tbody tr th {\n        vertical-align: top;\n    }\n\n    .dataframe thead th {\n        text-align: right;\n    }\n</style>\n<table border=\"1\" class=\"dataframe\">\n  <thead>\n    <tr style=\"text-align: right;\">\n      <th></th>\n      <th>Coin</th>\n      <th>Date</th>\n      <th>Open</th>\n      <th>High</th>\n      <th>Low</th>\n      <th>Close</th>\n      <th>Volume</th>\n      <th>Currency</th>\n      <th>encode_Coin_label</th>\n      <th>daily_pct_change</th>\n    </tr>\n  </thead>\n  <tbody>\n    <tr>\n      <th>0</th>\n      <td>1inch Token</td>\n      <td>25/12/2020</td>\n      <td>1.602781</td>\n      <td>2.918094</td>\n      <td>1.375262</td>\n      <td>2.328544</td>\n      <td>638225549</td>\n      <td>USD</td>\n      <td>0</td>\n      <td>NaN</td>\n    </tr>\n    <tr>\n      <th>1</th>\n      <td>1inch Token</td>\n      <td>26/12/2020</td>\n      <td>2.318946</td>\n      <td>2.434916</td>\n      <td>1.582264</td>\n      <td>1.596896</td>\n      <td>237653073</td>\n      <td>USD</td>\n      <td>0</td>\n      <td>-0.314208</td>\n    </tr>\n    <tr>\n      <th>2</th>\n      <td>1inch Token</td>\n      <td>27/12/2020</td>\n      <td>1.597744</td>\n      <td>1.630781</td>\n      <td>1.056657</td>\n      <td>1.062112</td>\n      <td>183978307</td>\n      <td>USD</td>\n      <td>0</td>\n      <td>-0.334890</td>\n    </tr>\n  </tbody>\n</table>\n</div>"
     },
     "execution_count": 120,
     "metadata": {},
     "output_type": "execute_result"
    }
   ],
   "source": [
    "\n",
    "coin_df = pd.DataFrame(coin_data)\n",
    "coin_df['daily_pct_change'] =coin_df['Close'].pct_change()\n",
    "coin_data.head(3)\n"
   ],
   "metadata": {
    "collapsed": false,
    "pycharm": {
     "name": "#%%\n"
    }
   }
  },
  {
   "cell_type": "code",
   "execution_count": 111,
   "outputs": [],
   "source": [
    "\n",
    "coin_df.drop(['Currency','Coin'], axis=1, inplace=True)\n"
   ],
   "metadata": {
    "collapsed": false,
    "pycharm": {
     "name": "#%%\n"
    }
   }
  },
  {
   "cell_type": "code",
   "execution_count": 121,
   "outputs": [
    {
     "data": {
      "text/plain": "          Coin        Date      Open      High       Low     Close     Volume  \\\n0  1inch Token  25/12/2020  1.602781  2.918094  1.375262  2.328544  638225549   \n1  1inch Token  26/12/2020  2.318946  2.434916  1.582264  1.596896  237653073   \n2  1inch Token  27/12/2020  1.597744  1.630781  1.056657  1.062112  183978307   \n\n  Currency  encode_Coin_label  daily_pct_change  \n0      USD                  0               NaN  \n1      USD                  0         -0.314208  \n2      USD                  0         -0.334890  ",
      "text/html": "<div>\n<style scoped>\n    .dataframe tbody tr th:only-of-type {\n        vertical-align: middle;\n    }\n\n    .dataframe tbody tr th {\n        vertical-align: top;\n    }\n\n    .dataframe thead th {\n        text-align: right;\n    }\n</style>\n<table border=\"1\" class=\"dataframe\">\n  <thead>\n    <tr style=\"text-align: right;\">\n      <th></th>\n      <th>Coin</th>\n      <th>Date</th>\n      <th>Open</th>\n      <th>High</th>\n      <th>Low</th>\n      <th>Close</th>\n      <th>Volume</th>\n      <th>Currency</th>\n      <th>encode_Coin_label</th>\n      <th>daily_pct_change</th>\n    </tr>\n  </thead>\n  <tbody>\n    <tr>\n      <th>0</th>\n      <td>1inch Token</td>\n      <td>25/12/2020</td>\n      <td>1.602781</td>\n      <td>2.918094</td>\n      <td>1.375262</td>\n      <td>2.328544</td>\n      <td>638225549</td>\n      <td>USD</td>\n      <td>0</td>\n      <td>NaN</td>\n    </tr>\n    <tr>\n      <th>1</th>\n      <td>1inch Token</td>\n      <td>26/12/2020</td>\n      <td>2.318946</td>\n      <td>2.434916</td>\n      <td>1.582264</td>\n      <td>1.596896</td>\n      <td>237653073</td>\n      <td>USD</td>\n      <td>0</td>\n      <td>-0.314208</td>\n    </tr>\n    <tr>\n      <th>2</th>\n      <td>1inch Token</td>\n      <td>27/12/2020</td>\n      <td>1.597744</td>\n      <td>1.630781</td>\n      <td>1.056657</td>\n      <td>1.062112</td>\n      <td>183978307</td>\n      <td>USD</td>\n      <td>0</td>\n      <td>-0.334890</td>\n    </tr>\n  </tbody>\n</table>\n</div>"
     },
     "execution_count": 121,
     "metadata": {},
     "output_type": "execute_result"
    }
   ],
   "source": [
    "coin_df.head(3)"
   ],
   "metadata": {
    "collapsed": false,
    "pycharm": {
     "name": "#%%\n"
    }
   }
  },
  {
   "cell_type": "code",
   "execution_count": 112,
   "outputs": [
    {
     "name": "stdout",
     "output_type": "stream",
     "text": [
      "Open                float64\n",
      "High                float64\n",
      "Low                 float64\n",
      "Close               float64\n",
      "Volume              float64\n",
      "daily_pct_change    float64\n",
      "dtype: object\n"
     ]
    }
   ],
   "source": [
    "coin_df= coin_df.applymap(float)\n",
    "print(coin_df.dtypes)"
   ],
   "metadata": {
    "collapsed": false,
    "pycharm": {
     "name": "#%%\n"
    }
   }
  },
  {
   "cell_type": "code",
   "execution_count": 101,
   "outputs": [],
   "source": [
    "empty_coin_df = coin_df[coin_df.isna().any(axis=1)]"
   ],
   "metadata": {
    "collapsed": false,
    "pycharm": {
     "name": "#%%\n"
    }
   }
  },
  {
   "cell_type": "code",
   "execution_count": 113,
   "outputs": [
    {
     "data": {
      "text/plain": "       Open      High       Low     Close       Volume  daily_pct_change\n0  1.602781  2.918094  1.375262  2.328544  638225549.0               NaN",
      "text/html": "<div>\n<style scoped>\n    .dataframe tbody tr th:only-of-type {\n        vertical-align: middle;\n    }\n\n    .dataframe tbody tr th {\n        vertical-align: top;\n    }\n\n    .dataframe thead th {\n        text-align: right;\n    }\n</style>\n<table border=\"1\" class=\"dataframe\">\n  <thead>\n    <tr style=\"text-align: right;\">\n      <th></th>\n      <th>Open</th>\n      <th>High</th>\n      <th>Low</th>\n      <th>Close</th>\n      <th>Volume</th>\n      <th>daily_pct_change</th>\n    </tr>\n  </thead>\n  <tbody>\n    <tr>\n      <th>0</th>\n      <td>1.602781</td>\n      <td>2.918094</td>\n      <td>1.375262</td>\n      <td>2.328544</td>\n      <td>638225549.0</td>\n      <td>NaN</td>\n    </tr>\n  </tbody>\n</table>\n</div>"
     },
     "execution_count": 113,
     "metadata": {},
     "output_type": "execute_result"
    }
   ],
   "source": [
    "empty_coin_df"
   ],
   "metadata": {
    "collapsed": false,
    "pycharm": {
     "name": "#%%\n"
    }
   }
  },
  {
   "cell_type": "code",
   "execution_count": 117,
   "outputs": [
    {
     "ename": "TypeError",
     "evalue": "'DataFrame' object is not callable",
     "output_type": "error",
     "traceback": [
      "\u001B[1;31m---------------------------------------------------------------------------\u001B[0m",
      "\u001B[1;31mTypeError\u001B[0m                                 Traceback (most recent call last)",
      "Input \u001B[1;32mIn [117]\u001B[0m, in \u001B[0;36m<cell line: 9>\u001B[1;34m()\u001B[0m\n\u001B[0;32m      7\u001B[0m new_data \u001B[38;5;241m=\u001B[39m imputer\u001B[38;5;241m.\u001B[39mtransform(coin_df)\n\u001B[0;32m      8\u001B[0m new_data \u001B[38;5;241m=\u001B[39m pd\u001B[38;5;241m.\u001B[39mDataFrame(new_data)\n\u001B[1;32m----> 9\u001B[0m \u001B[43mnew_data\u001B[49m\u001B[43m(\u001B[49m\u001B[38;5;241;43m3\u001B[39;49m\u001B[43m)\u001B[49m\n",
      "\u001B[1;31mTypeError\u001B[0m: 'DataFrame' object is not callable"
     ]
    }
   ],
   "source": [
    "from sklearn.impute import SimpleImputer\n",
    "from sklearn.preprocessing import Normalizer\n",
    "from sklearn import preprocessing\n",
    "\n",
    "imputer = SimpleImputer(strategy='mean')\n",
    "imputer.fit(coin_df)\n",
    "new_data = imputer.transform(coin_df)\n",
    "new_data = pd.DataFrame(new_data)\n",
    "new_data(3)"
   ],
   "metadata": {
    "collapsed": false,
    "pycharm": {
     "name": "#%%\n"
    }
   }
  },
  {
   "cell_type": "code",
   "execution_count": 116,
   "outputs": [
    {
     "name": "stdout",
     "output_type": "stream",
     "text": [
      "          Open      High       Low     Close       Volume  daily_pct_change\n",
      "0     1.602781  2.918094  1.375262  2.328544  638225548.0               NaN\n",
      "1     2.318946  2.434916  1.582264  1.596896  237653072.0         -0.314208\n",
      "2     1.597744  1.630781  1.056657  1.062112  183978306.0         -0.334890\n",
      "3     1.064454  1.254447  1.049051  1.110076  119337528.0          0.045159\n",
      "4     1.110460  1.111282  0.761151  0.887798  137916898.0         -0.200237\n",
      "...        ...       ...       ...       ...          ...               ...\n",
      "2037  0.703264  0.722780  0.646852  0.655285  213615374.0         -0.068290\n",
      "2038  0.655430  0.677529  0.650865  0.670329  154129143.0          0.022958\n",
      "2039  0.670433  0.712971  0.663562  0.699503  227820441.0          0.043522\n",
      "2040  0.699299  0.707520  0.623249  0.636792  214364305.0         -0.089651\n",
      "2041  0.734659  0.752187  0.628581  0.642839  542788351.0          0.009497\n",
      "\n",
      "[2042 rows x 6 columns]\n"
     ]
    }
   ],
   "source": [
    "coin_df_normalizer = Normalizer(norm='l1').fit(new_data)\n",
    "normalizeddata =coin_df-coin_df_normalizer.transform(new_data)\n",
    "print(normalizeddata)\n"
   ],
   "metadata": {
    "collapsed": false,
    "pycharm": {
     "name": "#%%\n"
    }
   }
  },
  {
   "cell_type": "code",
   "execution_count": null,
   "outputs": [],
   "source": [],
   "metadata": {
    "collapsed": false,
    "pycharm": {
     "name": "#%%\n"
    }
   }
  }
 ],
 "metadata": {
  "kernelspec": {
   "display_name": "Python 3",
   "language": "python",
   "name": "python3"
  },
  "language_info": {
   "codemirror_mode": {
    "name": "ipython",
    "version": 2
   },
   "file_extension": ".py",
   "mimetype": "text/x-python",
   "name": "python",
   "nbconvert_exporter": "python",
   "pygments_lexer": "ipython2",
   "version": "2.7.6"
  }
 },
 "nbformat": 4,
 "nbformat_minor": 0
}