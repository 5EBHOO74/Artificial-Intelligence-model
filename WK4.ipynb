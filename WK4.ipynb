{
 "cells": [
  {
   "cell_type": "code",
   "execution_count": 20,
   "outputs": [
    {
     "name": "stdout",
     "output_type": "stream",
     "text": [
      "(771, 9)\n",
      "   preg   plas  pres  skin   test  mass   pedi   age  class\n",
      "0     6  148.0  72.0    35    0.0  33.6  0.627  50.0      1\n",
      "1     1   85.0  66.0    29    0.0  26.6  0.351  31.0      0\n",
      "2     8  183.0  64.0     0    0.0  23.3  0.672  32.0      1\n",
      "3     1   89.0  66.0    23   94.0  28.1  0.167  21.0      0\n",
      "4     0  137.0  40.0    35  168.0  43.1  2.288  33.0      1\n",
      "     preg   plas  pres  skin   test  mass   pedi   age  class\n",
      "766     2  122.0  70.0    27    0.0  36.8  0.340  27.0      0\n",
      "767     5  121.0  72.0    23  112.0  26.2  0.245  30.0      0\n",
      "768     1  126.0  60.0     0    0.0  30.1  0.349  47.0      1\n",
      "769     1   93.0  70.0    31    0.0  30.4  0.315  23.0      0\n",
      "770     2    NaN  58.0    26    NaN  28.4  0.766   NaN      0\n"
     ]
    }
   ],
   "source": [
    "from pandas import read_csv\n",
    "from numpy import set_printoptions\n",
    "from sklearn import preprocessing\n",
    "\n",
    "header_names = ['preg', 'plas', 'pres', 'skin', 'test', 'mass', 'pedi', 'age', 'class']\n",
    "my_data = read_csv(\"pima_indians_diabetes_2.csv\", names = header_names)\n",
    "print(my_data.shape)\n",
    "print(my_data.head(5))\n",
    "print(my_data.tail(5))"
   ],
   "metadata": {
    "collapsed": false,
    "pycharm": {
     "name": "#%%\n"
    }
   }
  },
  {
   "cell_type": "code",
   "execution_count": 21,
   "outputs": [
    {
     "name": "stdout",
     "output_type": "stream",
     "text": [
      "      preg   plas   pres   skin   test   mass   pedi    age  class\n",
      "0    False  False  False  False  False  False  False  False  False\n",
      "1    False  False  False  False  False  False  False  False  False\n",
      "2    False  False  False  False  False  False  False  False  False\n",
      "3    False  False  False  False  False  False  False  False  False\n",
      "4    False  False  False  False  False  False  False  False  False\n",
      "..     ...    ...    ...    ...    ...    ...    ...    ...    ...\n",
      "766  False  False  False  False  False  False  False  False  False\n",
      "767  False  False  False  False  False  False  False  False  False\n",
      "768  False  False  False  False  False  False  False  False  False\n",
      "769  False  False  False  False  False  False  False  False  False\n",
      "770  False   True  False  False   True  False  False   True  False\n",
      "\n",
      "[771 rows x 9 columns]\n"
     ]
    }
   ],
   "source": [
    "print(my_data.isna())"
   ],
   "metadata": {
    "collapsed": false,
    "pycharm": {
     "name": "#%%\n"
    }
   }
  },
  {
   "cell_type": "code",
   "execution_count": 23,
   "outputs": [
    {
     "name": "stdout",
     "output_type": "stream",
     "text": [
      "preg     False\n",
      "plas      True\n",
      "pres      True\n",
      "skin     False\n",
      "test      True\n",
      "mass      True\n",
      "pedi     False\n",
      "age       True\n",
      "class    False\n",
      "dtype: bool\n"
     ]
    }
   ],
   "source": [
    "empty_data = my_data.isna().any(axis=0)\n",
    "print(empty_data)"
   ],
   "metadata": {
    "collapsed": false,
    "pycharm": {
     "name": "#%%\n"
    }
   }
  },
  {
   "cell_type": "code",
   "execution_count": null,
   "outputs": [],
   "source": [
    "drop.na function"
   ],
   "metadata": {
    "collapsed": false,
    "pycharm": {
     "name": "#%%\n"
    }
   }
  },
  {
   "cell_type": "code",
   "execution_count": null,
   "outputs": [],
   "source": [
    "dealing with missing values"
   ],
   "metadata": {
    "collapsed": false,
    "pycharm": {
     "name": "#%%\n"
    }
   }
  },
  {
   "cell_type": "code",
   "execution_count": null,
   "outputs": [],
   "source": [
    "scaling"
   ],
   "metadata": {
    "collapsed": false,
    "pycharm": {
     "name": "#%%\n"
    }
   }
  },
  {
   "cell_type": "code",
   "execution_count": 30,
   "outputs": [
    {
     "name": "stdout",
     "output_type": "stream",
     "text": [
      "(771, 9)\n",
      "     preg   plas  pres  skin  test  mass   pedi   age  class\n",
      "440     2  120.0   NaN    26  16.0  36.8  0.766  22.0      0\n",
      "661     2  120.0  58.0    26  16.0   NaN  0.766  22.0      0\n",
      "770     2    NaN  58.0    26   NaN  28.4  0.766   NaN      0\n",
      "empty rows of the diabetic data\n",
      "       0           1     2     3           4     5      6          7    8\n",
      "766  2.0  122.000000  70.0  27.0    0.000000  36.8  0.340  27.000000  0.0\n",
      "767  5.0  121.000000  72.0  23.0  112.000000  26.2  0.245  30.000000  0.0\n",
      "768  1.0  126.000000  60.0   0.0    0.000000  30.1  0.349  47.000000  1.0\n",
      "769  1.0   93.000000  70.0  31.0    0.000000  30.4  0.315  23.000000  0.0\n",
      "770  2.0  120.892208  58.0  26.0   79.633766  28.4  0.766  33.211688  0.0\n",
      "\n",
      " My Normalized data:\n",
      " [[0.02 0.43 0.21 0.1  0.   0.1  0.   0.14 0.  ]\n",
      " [0.   0.36 0.28 0.12 0.   0.11 0.   0.13 0.  ]\n",
      " [0.03 0.59 0.21 0.   0.   0.07 0.   0.1  0.  ]]\n"
     ]
    }
   ],
   "source": [
    "import pandas as pd\n",
    "from pandas import read_csv\n",
    "from numpy import set_printoptions\n",
    "from sklearn import preprocessing\n",
    "from sklearn.impute import SimpleImputer\n",
    "from sklearn.preprocessing import Normalizer\n",
    "header_names = ['preg', 'plas', 'pres', 'skin', 'test', 'mass', 'pedi', 'age', 'class']\n",
    "my_data = read_csv(\"pima_indians_diabetes_2.csv\", names = header_names)\n",
    "print(my_data.shape)\n",
    "\n",
    "empty_value_data = my_data[my_data.isna().any(axis=1)]\n",
    "print(empty_value_data)\n",
    "print('empty rows of the diabetic data')\n",
    "\n",
    "imputer = SimpleImputer(strategy='mean')\n",
    "imputer.fit(my_data)\n",
    "new_data = imputer.transform(my_data)\n",
    "\n",
    "new_data = pd.DataFrame(new_data)\n",
    "\n",
    "print(new_data.tail(5))\n",
    "set_printoptions(precision=2)\n",
    "my_data_normalizer = Normalizer(norm='l1').fit(new_data)\n",
    "my_normalised_data = my_data_normalizer.transform(new_data)\n",
    "print('\\n My Normalized data:\\n', my_normalised_data[0:3])"
   ],
   "metadata": {
    "collapsed": false,
    "pycharm": {
     "name": "#%%\n"
    }
   }
  },
  {
   "cell_type": "code",
   "execution_count": 31,
   "outputs": [
    {
     "name": "stdout",
     "output_type": "stream",
     "text": [
      "(771, 9)\n",
      "     preg   plas  pres  skin  test  mass   pedi   age  class\n",
      "440     2  120.0   NaN    26  16.0  36.8  0.766  22.0      0\n",
      "661     2  120.0  58.0    26  16.0   NaN  0.766  22.0      0\n",
      "770     2    NaN  58.0    26   NaN  28.4  0.766   NaN      0\n",
      "empty rows of the diabetic data\n",
      "       0           1     2     3           4     5      6          7    8\n",
      "766  2.0  122.000000  70.0  27.0    0.000000  36.8  0.340  27.000000  0.0\n",
      "767  5.0  121.000000  72.0  23.0  112.000000  26.2  0.245  30.000000  0.0\n",
      "768  1.0  126.000000  60.0   0.0    0.000000  30.1  0.349  47.000000  1.0\n",
      "769  1.0   93.000000  70.0  31.0    0.000000  30.4  0.315  23.000000  0.0\n",
      "770  2.0  120.892208  58.0  26.0   79.633766  28.4  0.766  33.211688  0.0\n",
      "\n",
      " My Normalized data:\n",
      " [[0.03 0.83 0.4  0.2  0.   0.19 0.   0.28 0.01]\n",
      " [0.01 0.72 0.56 0.24 0.   0.22 0.   0.26 0.  ]\n",
      " [0.04 0.92 0.32 0.   0.   0.12 0.   0.16 0.01]]\n"
     ]
    }
   ],
   "source": [
    "import pandas as pd\n",
    "from pandas import read_csv\n",
    "from numpy import set_printoptions\n",
    "from sklearn import preprocessing\n",
    "from sklearn.impute import SimpleImputer\n",
    "from sklearn.preprocessing import Normalizer\n",
    "header_names = ['preg', 'plas', 'pres', 'skin', 'test', 'mass', 'pedi', 'age', 'class']\n",
    "my_data = read_csv(\"pima_indians_diabetes_2.csv\", names = header_names)\n",
    "print(my_data.shape)\n",
    "\n",
    "empty_value_data = my_data[my_data.isna().any(axis=1)]\n",
    "print(empty_value_data)\n",
    "print('empty rows of the diabetic data')\n",
    "\n",
    "imputer = SimpleImputer(strategy='mean')\n",
    "imputer.fit(my_data)\n",
    "new_data = imputer.transform(my_data)\n",
    "\n",
    "new_data = pd.DataFrame(new_data)\n",
    "\n",
    "print(new_data.tail(5))\n",
    "set_printoptions(precision=2)\n",
    "my_data_normalizer = Normalizer(norm='l2').fit(new_data)\n",
    "my_normalised_data = my_data_normalizer.transform(new_data)\n",
    "print('\\n My Normalized data:\\n', my_normalised_data[0:3])"
   ],
   "metadata": {
    "collapsed": false,
    "pycharm": {
     "name": "#%%\n"
    }
   }
  },
  {
   "cell_type": "code",
   "execution_count": null,
   "outputs": [],
   "source": [
    "data_scaler = StandardScaler().fit(data_array"
   ],
   "metadata": {
    "collapsed": false,
    "pycharm": {
     "name": "#%%\n"
    }
   }
  },
  {
   "cell_type": "code",
   "execution_count": null,
   "outputs": [],
   "source": [],
   "metadata": {
    "collapsed": false,
    "pycharm": {
     "name": "#%%\n"
    }
   }
  },
  {
   "cell_type": "markdown",
   "source": [],
   "metadata": {
    "collapsed": false,
    "pycharm": {
     "name": "#%% md\n"
    }
   }
  }
 ],
 "metadata": {
  "kernelspec": {
   "display_name": "Python 3",
   "language": "python",
   "name": "python3"
  },
  "language_info": {
   "codemirror_mode": {
    "name": "ipython",
    "version": 2
   },
   "file_extension": ".py",
   "mimetype": "text/x-python",
   "name": "python",
   "nbconvert_exporter": "python",
   "pygments_lexer": "ipython2",
   "version": "2.7.6"
  }
 },
 "nbformat": 4,
 "nbformat_minor": 0
}